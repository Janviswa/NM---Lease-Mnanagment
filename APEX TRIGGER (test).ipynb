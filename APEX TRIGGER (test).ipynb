{
 "cells": [
  {
   "cell_type": "code",
   "execution_count": null,
   "id": "faf751a2",
   "metadata": {},
   "outputs": [],
   "source": [
    "trigger test on Tenant__c (before insert) \n",
    "\n",
    "{\n",
    "\n",
    "    if(trigger.isInsert && trigger.isBefore){\n",
    "\n",
    "        testHandler.preventInsert(trigger.new);\n",
    "\n",
    "    }\n",
    "\n",
    "}"
   ]
  }
 ],
 "metadata": {
  "kernelspec": {
   "display_name": "Python 3 (ipykernel)",
   "language": "python",
   "name": "python3"
  },
  "language_info": {
   "codemirror_mode": {
    "name": "ipython",
    "version": 3
   },
   "file_extension": ".py",
   "mimetype": "text/x-python",
   "name": "python",
   "nbconvert_exporter": "python",
   "pygments_lexer": "ipython3",
   "version": "3.11.7"
  }
 },
 "nbformat": 4,
 "nbformat_minor": 5
}
