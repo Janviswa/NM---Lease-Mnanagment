{
 "cells": [
  {
   "cell_type": "code",
   "execution_count": null,
   "id": "b6759d7c",
   "metadata": {},
   "outputs": [],
   "source": [
    "global class MonthlyEmailScheduler implements Schedulable {\n",
    "\n",
    "    global void execute(SchedulableContext sc) {\n",
    "\n",
    "        Integer currentDay = Date.today().day();\n",
    "\n",
    "        if (currentDay == 1) {\n",
    "\n",
    "            sendMonthlyEmails();\n",
    "\n",
    "        }\n",
    "\n",
    "    }\n",
    "\n",
    "\n",
    "    public static void sendMonthlyEmails() {\n",
    "\n",
    "       \n",
    "\n",
    "        List<Tenant__c> tenants = [SELECT Id, Email__c FROM Tenant__c];\n",
    "\n",
    "\n",
    "\n",
    "        for (Tenant__c tenant : tenants) {\n",
    "\n",
    "            String recipientEmail = tenant.Email__c;\n",
    "\n",
    "            String emailContent = 'I trust this email finds you well. I am writing to remind you that the monthly rent  is due Your timely payment ensures the smooth functioning of our rental arrangement and helps maintain a positive living environment for all.';\n",
    "\n",
    "            String emailSubject = 'Reminder: Monthly Rent Payment Due';\n",
    "\n",
    "\n",
    "            Messaging.SingleEmailMessage email = new Messaging.SingleEmailMessage();\n",
    "\n",
    "            email.setToAddresses(new String[]{recipientEmail});\n",
    "\n",
    "            email.setSubject(emailSubject);\n",
    "\n",
    "            email.setPlainTextBody(emailContent);\n",
    "\n",
    "            \n",
    "\n",
    "             Messaging.sendEmail(new Messaging.SingleEmailMessage[]{email});\n",
    "\n",
    "        }\n",
    "\n",
    "    }\n",
    "\n",
    "}"
   ]
  }
 ],
 "metadata": {
  "kernelspec": {
   "display_name": "Python 3 (ipykernel)",
   "language": "python",
   "name": "python3"
  },
  "language_info": {
   "codemirror_mode": {
    "name": "ipython",
    "version": 3
   },
   "file_extension": ".py",
   "mimetype": "text/x-python",
   "name": "python",
   "nbconvert_exporter": "python",
   "pygments_lexer": "ipython3",
   "version": "3.11.7"
  }
 },
 "nbformat": 4,
 "nbformat_minor": 5
}
