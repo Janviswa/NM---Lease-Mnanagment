{
 "cells": [
  {
   "cell_type": "code",
   "execution_count": null,
   "id": "685ec662",
   "metadata": {},
   "outputs": [],
   "source": [
    "public class testHandler {\n",
    "\n",
    "   public static void preventInsert(List<Tenant__c> newlist) {\n",
    "\n",
    "        Set<Id> existingPropertyIds = new Set<Id>();\n",
    "\n",
    "        for (Tenant__c existingTenant : [SELECT Id, Property__c FROM Tenant__c WHERE Property__c != null]) {\n",
    "\n",
    "            existingPropertyIds.add(existingTenant.Property__c);\n",
    "\n",
    "        }\n",
    "\n",
    "\n",
    "        for (Tenant__c newTenant : newlist) {\n",
    "\n",
    "            \n",
    "\n",
    "            if (newTenant.Property__c != null && existingPropertyIds.contains(newTenant.Property__c)) {\n",
    "\n",
    "                newTenant.addError('A tenant can have only one property');\n",
    "\n",
    "            }\n",
    "\n",
    "        }\n",
    "\n",
    "    }\n",
    "\n",
    "}"
   ]
  }
 ],
 "metadata": {
  "kernelspec": {
   "display_name": "Python 3 (ipykernel)",
   "language": "python",
   "name": "python3"
  },
  "language_info": {
   "codemirror_mode": {
    "name": "ipython",
    "version": 3
   },
   "file_extension": ".py",
   "mimetype": "text/x-python",
   "name": "python",
   "nbconvert_exporter": "python",
   "pygments_lexer": "ipython3",
   "version": "3.11.7"
  }
 },
 "nbformat": 4,
 "nbformat_minor": 5
}
